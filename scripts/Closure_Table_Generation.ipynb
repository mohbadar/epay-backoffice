{
 "cells": [
  {
   "cell_type": "markdown",
   "metadata": {},
   "source": [
    "# Connecting to the Database"
   ]
  },
  {
   "cell_type": "code",
   "execution_count": 1,
   "metadata": {},
   "outputs": [
    {
     "name": "stdout",
     "output_type": "stream",
     "text": [
      "Connection established to:  ('PostgreSQL 12.6, compiled by Visual C++ build 1914, 64-bit',)\n"
     ]
    }
   ],
   "source": [
    "import sqlalchemy\n",
    "from sqlalchemy import create_engine\n",
    "\n",
    "# Postgres username, password, and database name\n",
    "POSTGRES_ADDRESS = 'localhost'\n",
    "POSTGRES_PORT = '5432'\n",
    "POSTGRES_USERNAME = 'officems_user'\n",
    "POSTGRES_PASSWORD = 'secret'\n",
    "POSTGRES_DBNAME = 'officems_test'\n",
    "# A long string that contains the necessary Postgres login information\n",
    "postgres_str = ('postgresql://{username}:{password}@{ipaddress}:{port}/{dbname}'.format(username=POSTGRES_USERNAME, password=POSTGRES_PASSWORD, ipaddress=POSTGRES_ADDRESS, port=POSTGRES_PORT, dbname=POSTGRES_DBNAME))\n",
    "# Create the connection\n",
    "cnx = create_engine(postgres_str)\n",
    "\n",
    "# with cnx.connect() as conn:\n",
    "conn = cnx.raw_connection()\n",
    "try:\n",
    "    cursor = conn.cursor()\n",
    "    cursor.execute(\"select version()\")\n",
    "\n",
    "    # Fetch a single row using fetchone() method.\n",
    "    data = cursor.fetchone()\n",
    "    print(\"Connection established to: \",data)\n",
    "    #Retrieving data\n",
    "    cursor.execute('''SELECT id, parent_id, name_dr from DEPARTMENT''')\n",
    "\n",
    "    #Fetching 1st row from the table\n",
    "    result = cursor.fetchall();\n",
    "    #closing the connection\n",
    "    conn.close()\n",
    "finally:\n",
    "    conn.close()\n",
    "\n",
    "\n",
    "# db_name = 'officems_test'\n",
    "# user_name = 'officems_user'\n",
    "# password = 'secret'\n",
    "\n",
    "# #establishing the connection\n",
    "# conn = psycopg2.connect(\n",
    "#    database=db_name, user=user_name, password=password, host='127.0.0.1', port= '5432'\n",
    "# )\n",
    "#Creating a cursor object using the cursor() method\n",
    "\n",
    "\n",
    "#Executing an MYSQL function using the execute() method\n",
    "# cursor.execute(\"select version()\")\n",
    "\n",
    "# # Fetch a single row using fetchone() method.\n",
    "# data = cursor.fetchone()\n",
    "# print(\"Connection established to: \",data)\n",
    "\n",
    "# #Retrieving data\n",
    "# cursor.execute('''SELECT id, parent_id, name_en from DEPARTMENT''')\n",
    "\n",
    "# #Fetching 1st row from the table\n",
    "# result = cursor.fetchall();\n",
    "# #closing the connection\n",
    "# conn.close()"
   ]
  },
  {
   "cell_type": "markdown",
   "metadata": {},
   "source": [
    "# Converting the Results to Pandas DataFrame"
   ]
  },
  {
   "cell_type": "code",
   "execution_count": 2,
   "metadata": {},
   "outputs": [],
   "source": [
    "import pandas as pd\n",
    "import numpy as np\n",
    "\n",
    "df = pd.DataFrame(result, columns = [\"id\", \"parent_id\", \"name\"])\n",
    "df = df.fillna(0)\n",
    "df['parent_id'] = df['parent_id'].astype('int')\n",
    "# df"
   ]
  },
  {
   "cell_type": "markdown",
   "metadata": {},
   "source": [
    "# Generating the Closure Table"
   ]
  },
  {
   "cell_type": "code",
   "execution_count": 3,
   "metadata": {},
   "outputs": [],
   "source": [
    "nodes = []\n",
    "j = 0\n",
    "for i, record in df.iterrows():\n",
    "    \n",
    "    descending = int(record.id)\n",
    "    ascending = int(record.parent_id)\n",
    "    depth = 0\n",
    "    j = j+1\n",
    "    nodes.append((j, descending, descending, depth))\n",
    "    \n",
    "    while(ascending != 0):\n",
    "        j = j+1\n",
    "        depth = depth+1\n",
    "        nodes.append((j, descending, ascending, depth))\n",
    "        ascending = int(df[df['id'] == ascending]['parent_id'])\n",
    "        "
   ]
  },
  {
   "cell_type": "code",
   "execution_count": 4,
   "metadata": {},
   "outputs": [],
   "source": [
    "# print(nodes)"
   ]
  },
  {
   "cell_type": "code",
   "execution_count": 5,
   "metadata": {},
   "outputs": [],
   "source": [
    "table = pd.DataFrame(nodes, columns = ['id', 'descendant_id', 'ancestor_id', 'depth'])\n",
    "# table"
   ]
  },
  {
   "cell_type": "code",
   "execution_count": 6,
   "metadata": {},
   "outputs": [
    {
     "name": "stdout",
     "output_type": "stream",
     "text": [
      "successfully saved in db\n"
     ]
    }
   ],
   "source": [
    "table.to_sql('department_closure', con=cnx, if_exists='append',index=False)\n",
    "print(\"successfully saved in db\")"
   ]
  },
  {
   "cell_type": "code",
   "execution_count": null,
   "metadata": {},
   "outputs": [],
   "source": []
  },
  {
   "cell_type": "code",
   "execution_count": null,
   "metadata": {},
   "outputs": [],
   "source": []
  },
  {
   "cell_type": "code",
   "execution_count": null,
   "metadata": {},
   "outputs": [],
   "source": []
  }
 ],
 "metadata": {
  "kernelspec": {
   "display_name": "Python 3",
   "language": "python",
   "name": "python3"
  },
  "language_info": {
   "codemirror_mode": {
    "name": "ipython",
    "version": 3
   },
   "file_extension": ".py",
   "mimetype": "text/x-python",
   "name": "python",
   "nbconvert_exporter": "python",
   "pygments_lexer": "ipython3",
   "version": "3.8.8"
  }
 },
 "nbformat": 4,
 "nbformat_minor": 4
}
